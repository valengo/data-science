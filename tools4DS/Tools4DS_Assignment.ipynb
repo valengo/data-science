{
 "cells": [
  {
   "cell_type": "markdown",
   "metadata": {
    "collapsed": true
   },
   "source": [
    "<h1> My Jupyter Notebook on IBM Watson Studio </h1>"
   ]
  },
  {
   "cell_type": "markdown",
   "metadata": {},
   "source": [
    "**Andressa**  \n",
    "Bioinformatician"
   ]
  },
  {
   "cell_type": "markdown",
   "metadata": {},
   "source": [
    "*I'm interested in data science because it's a very fascinating field that allows for lots of exploration to get insights to solve real world problems.*  \n",
    "*I really enjoy data visualization. Who doesn't like a race bar plot?*"
   ]
  },
  {
   "cell_type": "markdown",
   "metadata": {},
   "source": [
    "<h3>The following code prints a message for who is reading this notebook:</h3>"
   ]
  },
  {
   "cell_type": "code",
   "execution_count": 1,
   "metadata": {},
   "outputs": [
    {
     "name": "stdout",
     "output_type": "stream",
     "text": [
      "Hello. I hope you're doing well! 😀\n"
     ]
    }
   ],
   "source": [
    "print('Hello. I hope you\\'re doing well! 😀')"
   ]
  },
  {
   "cell_type": "markdown",
   "metadata": {},
   "source": [
    "<strong>Three facts about me, one of them is a lie.</strong>\n",
    "1. I can solve the rubik's cube in less than 1 minute\n",
    "2. I have a streak of more than 365 days on Duolingo\n",
    "3. I play dota 2 for almost 10 years\n",
    "\n",
    "<details>\n",
    "    <summary><strong>Which of three facts is a lie? <u>Click here to reveal it.</u></strong></summary>\n",
    "    I don't have a streak of more than 365 days on Duolingo. My longest streak was 121 days. 🔥 \n",
    "</details>\n",
    "\n",
    "---\n",
    "\n",
    "This funcionality of adding a collapsible section is very cool. The code I used to hide which fact was not true is like:\n",
    "\n",
    "    <details>\n",
    "        <summary><strong>Which of three facts is a lie? <u>Click here to reveal it.</u></strong></summary>\n",
    "             Not revealing anything here to avoid spoilers 😅\n",
    "    </details>\n",
    "\n",
    "This gave me an idea of a little game that's totally based on luck.  \n",
    "Can you guide the car (🚕) till one of the flags without falling into any holes (🕳)?  \n",
    "On the table bellow, click on the dots (....) to reveal the path. Good luck! \n",
    "\n",
    "| | | | | | | |\n",
    "|:-:|:-:|:-:|:-:|:-:|:-:|:-:|\n",
    "| <details open><summary>......</summary>🚕</details> | <details><summary>......</summary>🚕</details> | <details><summary>......</summary>🕳</details> | <details><summary>......</summary>🚕</details> | <details><summary>......</summary>🕳</details> | <details><summary>......</summary>🕳</details> | <details open><summary>......</summary>🏁</details> |\n",
    "| <details open><summary>......</summary>🕳</details> | <details><summary>......</summary>🕳</details> | <details><summary>......</summary>🚕</details> | <details><summary>......</summary>🕳</details> | <details><summary>......</summary>🚕</details> | <details><summary>......</summary>🚕</details> | <details open ><summary>......</summary>🏁</details> |\n",
    "\n",
    "---\n",
    "\n",
    "This is my notebook in the markdown format, so you can play with the interactive stuff I have created.  \n",
    "You can find it on the ipynb format on the same repository by clicking [here](https://github.com/valengo/data-science/tree/main/tools4DS). \n",
    "\n",
    "\n",
    "\n",
    "\n",
    "\n",
    "\n"
   ]
  }
 ],
 "metadata": {
  "kernelspec": {
   "display_name": "Python 3.9",
   "language": "python",
   "name": "python3"
  },
  "language_info": {
   "codemirror_mode": {
    "name": "ipython",
    "version": 3
   },
   "file_extension": ".py",
   "mimetype": "text/x-python",
   "name": "python",
   "nbconvert_exporter": "python",
   "pygments_lexer": "ipython3",
   "version": "3.9.13"
  }
 },
 "nbformat": 4,
 "nbformat_minor": 1
}
